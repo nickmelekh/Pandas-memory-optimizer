{
 "cells": [
  {
   "cell_type": "code",
   "execution_count": 8,
   "metadata": {},
   "outputs": [],
   "source": [
    "import pandas as pd\n",
    "import time\n",
    "import warnings\n",
    "warnings.filterwarnings('ignore')"
   ]
  },
  {
   "cell_type": "code",
   "execution_count": 14,
   "metadata": {},
   "outputs": [],
   "source": [
    "filename = 'logs.csv' # CSV file address "
   ]
  },
  {
   "cell_type": "code",
   "execution_count": 10,
   "metadata": {},
   "outputs": [],
   "source": [
    "def read_file(filename):\n",
    "    start_time = time.time()\n",
    "    data = pd.read_csv(filename)\n",
    "    print('File read in {:03.2f} seconds'.format(time.time() - start_time))\n",
    "    return data\n",
    "\n",
    "def show_mem_usage_for_pandas_obj(pandas_obj):\n",
    "    return data.info(memory_usage = 'deep')\n",
    "\n",
    "def show_mem_usage_for_dtype(pandas_obj):\n",
    "    if isinstance(pandas_obj, pd.DataFrame):\n",
    "        # object is dataframe\n",
    "        for dtype in ['float','int','object']:\n",
    "            selected_dtype = pandas_obj.select_dtypes(include = [dtype])\n",
    "            mean_usage_b = selected_dtype.memory_usage(deep = True).mean()\n",
    "            mean_usage_mb = mean_usage_b / 1024 ** 2 # convert bytes to megabytes\n",
    "            print('Memory usage for {} columns: {:03.2f} MB'.format(dtype, mean_usage_mb))\n",
    "\n",
    "def get_mem_usage_for_pandas_obj(pandas_obj):\n",
    "    if isinstance(pandas_obj, pd.DataFrame):\n",
    "        # object is dataframe\n",
    "        usage_b = pandas_obj.memory_usage(deep = True).sum()\n",
    "    else:\n",
    "        # object is series\n",
    "        usage_b = pandas_obj.memory_usage(deep = True)\n",
    "    usage = usage_b / 1024 ** 2 # convert bytes to megabytes\n",
    "    return '{:03.2f} MB'.format(usage)\n",
    "\n",
    "def compare_dtypes_optimization(dtype_1, dtype_2):\n",
    "    comparison = pd.concat([dtype_1.dtypes, dtype_2.dtypes], axis = 1)\n",
    "    comparison.columns = ['before', 'after']\n",
    "    comparison.apply(pd.Series.value_counts)\n",
    "    return comparison\n",
    "\n",
    "def optimize_numeric_int_columns(pandas_obj, compare = False, inplace = False):\n",
    "    data_int = pandas_obj.select_dtypes(include = ['int'])\n",
    "    optimized_int = data_int.apply(pd.to_numeric, downcast = 'unsigned')\n",
    "    print('Before: ', get_mem_usage_for_pandas_obj(data_int), 'After: ', get_mem_usage_for_pandas_obj(optimized_int))\n",
    "    if compare == True:\n",
    "        compare_dtypes_optimization(data_int, optimized_int)\n",
    "    if inplace == True:\n",
    "        return optimized_int\n",
    "    \n",
    "def optimize_numeric_float_columns(pandas_obj, compare = False, inplace = False):\n",
    "    data_float = pandas_obj.select_dtypes(include = ['float'])\n",
    "    optimized_float = data_float.apply(pd.to_numeric, downcast = 'float')\n",
    "    print('Before: ', get_mem_usage_for_pandas_obj(data_float), 'After: ', get_mem_usage_for_pandas_obj(optimized_float))\n",
    "    if compare == True:\n",
    "        compare_dtypes_optimization(data_float, optimized_float)\n",
    "    if inplace == True:\n",
    "        return optimized_float\n",
    "\n",
    "def categorize_object_columns(pandas_obj, compare = False, inplace = False):\n",
    "    data_obj = pandas_obj.select_dtypes(include = ['object']).copy()\n",
    "    optimized_obj = pd.DataFrame()\n",
    "    for column in data_obj.columns:\n",
    "        total_values = len(data_obj[column])\n",
    "        unique_values = len(data_obj[column].unique())\n",
    "        if unique_values / total_values < 0.5: # estimate necessity of classification\n",
    "            optimized_obj.loc[:, column] = data_obj[column].astype('category')\n",
    "        else:\n",
    "            optimized_obj.loc[:, column] = data_obj[col]\n",
    "    print('Before: ', get_mem_usage_for_pandas_obj(data_obj), 'After: ', get_mem_usage_for_pandas_obj(optimized_obj))\n",
    "    if compare == True:\n",
    "        compare_dtypes_optimization(data_obj, optimized_obj)\n",
    "    if inplace == True:\n",
    "        return optimized_obj"
   ]
  },
  {
   "cell_type": "code",
   "execution_count": 16,
   "metadata": {},
   "outputs": [
    {
     "name": "stdout",
     "output_type": "stream",
     "text": [
      "File read in 3.09 seconds\n"
     ]
    },
    {
     "data": {
      "text/plain": [
       "'861.57 MB'"
      ]
     },
     "execution_count": 16,
     "metadata": {},
     "output_type": "execute_result"
    }
   ],
   "source": [
    "data = read_file(filename)\n",
    "get_mem_usage_for_pandas_obj(data)"
   ]
  },
  {
   "cell_type": "code",
   "execution_count": 11,
   "metadata": {},
   "outputs": [
    {
     "name": "stdout",
     "output_type": "stream",
     "text": [
      "Before:  7.87 MB After:  1.48 MB\n"
     ]
    }
   ],
   "source": [
    "optimize_numeric_int_columns(data)"
   ]
  },
  {
   "cell_type": "code",
   "execution_count": 12,
   "metadata": {},
   "outputs": [
    {
     "name": "stdout",
     "output_type": "stream",
     "text": [
      "Before:  100.99 MB After:  50.49 MB\n"
     ]
    }
   ],
   "source": [
    "optimize_numeric_float_columns(data)"
   ]
  },
  {
   "cell_type": "code",
   "execution_count": 13,
   "metadata": {},
   "outputs": [
    {
     "name": "stdout",
     "output_type": "stream",
     "text": [
      "Before:  752.72 MB After:  51.67 MB\n"
     ]
    }
   ],
   "source": [
    "categorize_object_columns(data)"
   ]
  }
 ],
 "metadata": {
  "kernelspec": {
   "display_name": "Python 3",
   "language": "python",
   "name": "python3"
  },
  "language_info": {
   "codemirror_mode": {
    "name": "ipython",
    "version": 3
   },
   "file_extension": ".py",
   "mimetype": "text/x-python",
   "name": "python",
   "nbconvert_exporter": "python",
   "pygments_lexer": "ipython3",
   "version": "3.7.2"
  }
 },
 "nbformat": 4,
 "nbformat_minor": 2
}
